{
  "nbformat": 4,
  "nbformat_minor": 0,
  "metadata": {
    "colab": {
      "provenance": []
    },
    "kernelspec": {
      "name": "python3",
      "display_name": "Python 3"
    },
    "language_info": {
      "name": "python"
    }
  },
  "cells": [
    {
      "cell_type": "code",
      "execution_count": null,
      "metadata": {
        "id": "XSSskawtT7NA"
      },
      "outputs": [],
      "source": [
        "1. What is Object-Oriented Programming (OOP)?"
      ]
    },
    {
      "cell_type": "markdown",
      "source": [
        "->A project can have many components like backend, frontend, data pipeline. If a backend developer wants to work/change some backend function, OOPS helps you to arrange the required functions in respective classes.\n",
        "\n",
        "Object-Oriented Programming (OOP) is a way of writing programs where we group related data (information) and actions (things we can do) into a single unit called an Object.\n",
        "\n",
        "OOP majorly includes 2 elements:-\n",
        "\n",
        "-> Class - Blueprint\n",
        "\n",
        "-> Object - Actual thing created from blueprint"
      ],
      "metadata": {
        "id": "qkHQPAbNUA8Y"
      }
    },
    {
      "cell_type": "markdown",
      "source": [
        "2. What is a class in OOP?"
      ],
      "metadata": {
        "id": "TpCN3xZEAKJ_"
      }
    },
    {
      "cell_type": "markdown",
      "source": [
        "-> A class is a template used to create objects. It defines:\n",
        "\n",
        "Attributes - what the object has\n",
        "\n",
        "Methods - what the object can do\n",
        "\n",
        "Example - Class Car (defines color, brand and actions like drive, brake)\n",
        "\n",
        "This example defines a class Car where we created a template where we can create multiple objects.\n",
        "\n"
      ],
      "metadata": {
        "id": "F0C3al4gANxt"
      }
    },
    {
      "cell_type": "markdown",
      "source": [
        "3. What is a object in Python?"
      ],
      "metadata": {
        "id": "IarqdVypBgxo"
      }
    },
    {
      "cell_type": "markdown",
      "source": [
        "-> Class is a blueprint and actual thing that is created from that blueprint is called Object.\n",
        "\n",
        "An Object is defined as instance of a Class. A single class can create multiple objects.\n",
        "\n",
        "Eg=\n",
        "\n",
        "class Car:\n",
        "  \n",
        "car1 = Car(\"Toyota\", \"Red\")   # Object 1\n",
        "\n",
        "car2 = Car(\"BMW\", \"Black\")    # Object 2\n"
      ],
      "metadata": {
        "id": "N1vVdDPfBlUw"
      }
    },
    {
      "cell_type": "markdown",
      "source": [
        "4. What is the difference between abstraction and encapsulation?"
      ],
      "metadata": {
        "id": "bOJoqncpDxxz"
      }
    },
    {
      "cell_type": "markdown",
      "source": [
        "-> Lets talk about both one by one. First lets talk about 'Abstraction':-\n",
        "\n",
        "Abstraction is about hiding the internal details and showing only the essential features of an object. There are few more points we can use to define Abstraction:-\n",
        "\n",
        "- Abstraction is the concept of hiding complex implementation\n",
        "\n",
        "- Abstraction can be achieved using abstract class.\n",
        "\n",
        "- Abstract class can not be instantiated(can not make object)\n",
        "\n",
        "- Abstract class should always be subclassed.\n",
        "\n",
        "- Abstract class  may contain methods that are just declared and not implemented in abstract class itself, subclass are responsible for implementing these abstract methods.\n",
        "\n",
        "- If in inherited class a method is not present from abstract class it will not throw error.\n",
        "\n",
        "Eg= If we are using a program , we do not want to see the backend, we only want to see the interface.\n",
        "\n",
        "\n",
        "\n",
        "If we now talk about encapsulation,\n",
        "\n",
        "Encapsulation means wrapping data (variables) and methods (functions) together inside a class and restricting direct access to the data.\n",
        "\n",
        "We hide the data so no one can change it accidentally.\n",
        "\n",
        "Instead, we provide getter and setter methods to access or modify it in a controlled way.\n"
      ],
      "metadata": {
        "id": "B9zRiYKfD2oO"
      }
    },
    {
      "cell_type": "markdown",
      "source": [
        "5. What are dunder methods in Python?"
      ],
      "metadata": {
        "id": "NLzzh3GjG0sx"
      }
    },
    {
      "cell_type": "markdown",
      "source": [
        "-> Dunder methods, also called magic methods or special methods are an important concept in Python. Dunder method is defined by double underscore.\n",
        "\n",
        "These are methods that start and end with two underscores, like __init__, __str__, __add__.\n",
        "\n",
        "Dunders are special methods that Python uses internally to implement certain behavior for objects. Python calls them automatically in certain situation.\n",
        "\n",
        "Dunder methods are also used for method overriding."
      ],
      "metadata": {
        "id": "mkabypOYMmtT"
      }
    },
    {
      "cell_type": "markdown",
      "source": [
        "6. Explain the concept of inheritance in OOP?"
      ],
      "metadata": {
        "id": "TzRvXw8RNmzJ"
      }
    },
    {
      "cell_type": "markdown",
      "source": [
        "-> Inheritance is an OOP concept where one class (called child/subclass) can reuse properties and methods from another class (called parent/superclass). There are 2 elements in Inheritance:-\n",
        "\n",
        "- Parent class = provides common features.\n",
        "\n",
        "- Child class = inherits those features and can also add its own.\n",
        "\n",
        "The goal of inheritance is to reuse code and avoid duplication. There are multiple types of Inheritance in Python:-\n",
        "\n",
        "- Single Inheritance → Child inherits from one parent\n",
        "\n",
        "- Multiple Inheritance → Child inherits from more than one parent\n",
        "\n",
        "- Multilevel Inheritance → Chain of inheritance (grandparent → parent → child)"
      ],
      "metadata": {
        "id": "XynHIdq9Nrer"
      }
    },
    {
      "cell_type": "markdown",
      "source": [
        "7. What is polymorphism in OOP?"
      ],
      "metadata": {
        "id": "R_rCv_npOyNj"
      }
    },
    {
      "cell_type": "markdown",
      "source": [
        "-> Poly means many and morphism means forms/states. It refers to an object taking several forms depending on the methods/data. Polymorphism in OOPS takes places in two ways:\n",
        "\n",
        "- Method overloading\n",
        "- Method overriding\n",
        "\n",
        "\n",
        "Method overloading happens in same class.\n",
        "\n",
        "In method overriding, method in parent class and child class with same signature, the child class method will be executed."
      ],
      "metadata": {
        "id": "fUpFszBBO1_K"
      }
    },
    {
      "cell_type": "markdown",
      "source": [
        "8. How is encapsulation achieved in Python?"
      ],
      "metadata": {
        "id": "Hnn8sMBmRUEz"
      }
    },
    {
      "cell_type": "markdown",
      "source": [
        "-> Encapsulation is achieved using multiple attributes. There are multiple attributes in encapsulation:-\n",
        "\n",
        "- Public attributes → anyone can access or change\n",
        "\n",
        "- Private attributes → start with __, hidden from outside\n",
        "\n",
        "- Getter/Setter methods → safe way to view or change private data\n",
        "\n",
        "Eg= class BankAccount:\n",
        "\n",
        "    def __init__(self, balance):\n",
        "\n",
        "    self.__balance = balance   #private (hidden)\n",
        "\n",
        "\n",
        "        class Car:\n",
        "    def __init__(self, brand, color):\n",
        "        self.brand = brand    # public attribute\n",
        "        self.color = color    # public attribute\n",
        "\n",
        "\n",
        "\n",
        "\n",
        "\n",
        "\n",
        "  \n",
        "\n"
      ],
      "metadata": {
        "id": "wWOn1RC8RYdW"
      }
    },
    {
      "cell_type": "markdown",
      "source": [
        "9. What is a constructor in Python?"
      ],
      "metadata": {
        "id": "yItmwHiLVQFY"
      }
    },
    {
      "cell_type": "markdown",
      "source": [
        "-> A constructor is a special method in a class that is automatically called when an object is created.\n",
        "\n",
        "Its main job is to initialize the object's attributes (give them starting values).\n",
        "\n",
        "In Python, the constructor is always named: _init_\n",
        "\n",
        "Eg= class Person:\\\n",
        "    def __init__(self, name, age):\\\n",
        "self.name = name\\\n",
        "        self.age = age\n"
      ],
      "metadata": {
        "id": "qgN2wWPyVVdX"
      }
    },
    {
      "cell_type": "markdown",
      "source": [
        "10.  What are class and static methods in Python?"
      ],
      "metadata": {
        "id": "oNjKyJJ4WxWp"
      }
    },
    {
      "cell_type": "markdown",
      "source": [
        "-> A class method in Python is a method that is bound to the class rather than its instance. It can access or modify class-level attributes. Class methods are defined using the @classmethod decorator and take cls (the class itself) as the first parameter instead of self. Key Uses of Class Methods:-\n",
        "\n",
        "- Class methods can be used to work with variables that are shared across all instances of a class.\n",
        "\n",
        "- They can serve as alternative constructors to create instances in different ways.\n",
        "\n",
        "- They allow methods to be called on the class itself without creating an instance.\n",
        "\n",
        "\n",
        "\n",
        "If we talk about static method, it is a method that does not depend on instance or class variables. It's like a regular function that happens to live inside a class for organizational purposes. You define it using the @staticmethod decorator. Key Uses of Static Methods:-\n",
        "\n",
        "- If a function logically belongs to a class but doesn't need access to instance (self) or class (cls) data, we can make it static.\n",
        "- Keeps related functions grouped inside the class rather than floating globally."
      ],
      "metadata": {
        "id": "VvZfk852W1FQ"
      }
    },
    {
      "cell_type": "markdown",
      "source": [
        "11. What is method overloading in Python?"
      ],
      "metadata": {
        "id": "JrfJNm2MY0ZN"
      }
    },
    {
      "cell_type": "markdown",
      "source": [
        "-> Method overloading means having multiple methods with the same name but different parameters. In many languages, you can write multiple versions of a method with different numbers or types of arguments.\n",
        "\n",
        "In Python, true method overloading is not supported, instead if we define multiple methods with the same name, the last one overrides the earlier ones.\n",
        "\n",
        "To achieve overloading behavior, we use default arguments or *args / **kwargs.\n",
        "\n"
      ],
      "metadata": {
        "id": "MbVyAQnTY45f"
      }
    },
    {
      "cell_type": "markdown",
      "source": [
        "12. What is method overriding in OOP?"
      ],
      "metadata": {
        "id": "r3IMXjvRZ3Go"
      }
    },
    {
      "cell_type": "markdown",
      "source": [
        "-> Method overriding happens when child class defines a method with the same name as a method in its parent class.\n",
        "\n",
        "The child class's method replaces (overrides) the parent class's method when called on the child object.\n",
        "\n",
        "This is a form of runtime polymorphism."
      ],
      "metadata": {
        "id": "OzO4QA7-Z_kz"
      }
    },
    {
      "cell_type": "markdown",
      "source": [
        "13. What is a property decorator in Python?"
      ],
      "metadata": {
        "id": "gGjs9pCQaiOs"
      }
    },
    {
      "cell_type": "markdown",
      "source": [
        "-> The property decorator in Python is used to make a method act like an attribute.\n",
        "\n",
        "It allows you to control access to instance variables while keeping a simple syntax. t makes code cleaner by letting you use attribute syntax while still having method logic behind it.\n",
        "\n",
        "There are multiple uses of property decorator:-\n",
        "\n",
        "- Encapsulation - Hide internal details and provide controlled access.\n",
        "\n",
        "- Read-only attributes - Prevent direct modification.\n",
        "\n",
        "- Validation / logic when getting or setting values.\n"
      ],
      "metadata": {
        "id": "B8anO9fvan29"
      }
    },
    {
      "cell_type": "markdown",
      "source": [
        "14. Why is polymorphism important in OOP?"
      ],
      "metadata": {
        "id": "2QdzDMdhbrAc"
      }
    },
    {
      "cell_type": "markdown",
      "source": [
        "-> Polymorphism is very important because it makes code flexible, reusable, and easier to maintain.\n",
        "\n",
        "Polymorphism means \"many forms\". In OOP, it allows the same method name or operator to behave differently depending on the object that calls it. it is important because:-\n",
        "\n",
        "- You can write a single piece of code that works with different object types.\n",
        "\n",
        "- New classes can be added without changing existing code.\n",
        "\n",
        "- Instead of checking object types (if/else), polymorphism lets objects decide how to respond to a method call.\n",
        "\n",
        "- Supports Abstraction\n"
      ],
      "metadata": {
        "id": "OG7XKdWmbwsI"
      }
    },
    {
      "cell_type": "markdown",
      "source": [
        "15. What is an abstract class in Python?"
      ],
      "metadata": {
        "id": "bv5ZXictcumR"
      }
    },
    {
      "cell_type": "markdown",
      "source": [
        "-> Abstraction means hiding the internal details and showing only the essential features of an object. Abstraction can be achieved using 'abstract class'. If we talk in detail that what is abstract class, an abstract class is a class that cannot be instantiated directly.\n",
        "It is meant to provide a blueprint for other classes.\n",
        "\n",
        "In Python, abstract classes are defined using the abc module.\n",
        "\n",
        "Methods declared with @abstractmethod must be implemented in the child class.\n",
        "\n",
        "Abstract class force subclasses to follow the same method structure."
      ],
      "metadata": {
        "id": "IM0WD0A9dei-"
      }
    },
    {
      "cell_type": "markdown",
      "source": [
        "16. What are the advantages of OOP?"
      ],
      "metadata": {
        "id": "z5w8ca8VfADt"
      }
    },
    {
      "cell_type": "markdown",
      "source": [
        "-> OOP makes code organized, reusable, and easier to maintain. There are various advantages of OOP:-\n",
        "\n",
        "- Code Organization\n",
        "\n",
        "Code is divided into classes and objects which makes large programs easier to manage.Each class focuses on one responsibility.\n",
        "\n",
        "- Reusability\n",
        "\n",
        "Classes and methods can be reused across projects. Inheritance allows new classes to build upon existing ones instead of rewriting code.\n",
        "\n",
        "- Encapsulation\n",
        "\n",
        "Internal details of a class are hidden. Objects expose only what's necessary via methods/properties → improves security and reduces errors.\n",
        "\n",
        "- Abstraction\n",
        "\n",
        "Allows defining abstract classes/interfaces so users know what operations exist without worrying about how they're implemented.\n",
        "\n",
        "- Polymorphism\n",
        "\n",
        "Same method name works differently for different objects.It makes code more flexible and extensible without modifying existing logic.\n",
        "\n",
        "- Easier to Update\n",
        "\n",
        "Since code is modular and reusable, fixing bugs or adding new features is easier.Changes in one class don't usually break the whole system.\n",
        "\n",
        "- Scalability\n",
        "\n",
        "OOP makes it easier to design large, complex systems (e.g., banking apps, games, enterprise software).\n"
      ],
      "metadata": {
        "id": "0BlJug0BfDIE"
      }
    },
    {
      "cell_type": "markdown",
      "source": [
        "17. What is the difference between a class variable and an instance variable?"
      ],
      "metadata": {
        "id": "1ElnoNcRgk2j"
      }
    },
    {
      "cell_type": "markdown",
      "source": [
        "-> There are multiple grounds on which we can differentiate Class variable and instance variable. Lets see the grounds one by one:-\n",
        "\n",
        "- Definition\n",
        "\n",
        "A class variable is one which belongs to the class and is shared by all instances.\n",
        "\n",
        "Instance variable is a variable that belongs to a specific object\n",
        "\n",
        "- Uniqueness\n",
        "\n",
        "Class variable is shared across all objects of the class.\n",
        "\n",
        "In instance variable, each object has its own copy.\n",
        "\n",
        "- Accessed by\n",
        "\n",
        "Class variable is accessed by class nme or instance.\n",
        "\n",
        "Instance variable is accessed only through instance.\n",
        "\n",
        "- Where is it defined\n",
        "\n",
        "Class variable is defined inside the class but outside any method.\n",
        "\n",
        "Instance variable is defined inside the __init__ method (or other instance methods) using self."
      ],
      "metadata": {
        "id": "HdaNZT2wgn44"
      }
    },
    {
      "cell_type": "markdown",
      "source": [
        "18. What is multiple inheritance in Python?"
      ],
      "metadata": {
        "id": "3i4p87MJjJZ0"
      }
    },
    {
      "cell_type": "markdown",
      "source": [
        "-> Multiple Inheritance means a class can inherit from more than one parent class. This allows the child class to use attributes and methods from multiple base classes.\n",
        "\n",
        "In Python, you can do this simply by listing multiple parent classes inside parentheses.\n",
        "\n",
        "There are various advantages of using multiple inheritance:-\n",
        "\n",
        "- A single code can be reused from multiple classes.\n",
        "\n",
        "- Model objects that naturally have multiple roles.\n",
        "\n",
        "There are few disadvantages as well:-\n",
        "\n",
        "- Can lead to ambiguity/confusion if parents have same methods.\n",
        "\n",
        "- Needs careful design to avoid diamond problem."
      ],
      "metadata": {
        "id": "SGapnrZKjN7b"
      }
    },
    {
      "cell_type": "markdown",
      "source": [
        "19. Explain the purpose of __str__ and __repr__ methods in Python."
      ],
      "metadata": {
        "id": "98cmvkqOk8X_"
      }
    },
    {
      "cell_type": "markdown",
      "source": [
        "-> First lets talk about str method-\n",
        "\n",
        "The __str__ method is a dunder method that defines how an object is represented as a human-readable string.\n",
        "It is automatically called when you use:\n",
        "\n",
        "- print(object)\n",
        "\n",
        "- str(object)\n",
        "\n",
        "If __str__ is not defined, Python falls back to using __repr__ or a default object representation like <ClassName object at 0x...>. Purpose of __str__:-\n",
        "\n",
        "\n",
        "-Makes objects easy to understand when printed.\n",
        "\n",
        "-Shows meaningful information instead of memory addresses.\n",
        "\n",
        "-You can choose exactly what information to show.\n",
        "\n",
        "\n",
        "If we talk about __repr__,it is a dunder method used to define the “official” string representation of an object. Its main purpose is to provide a clear and unambiguous description of the object, primarily for developers and debugging, rather than for end-users."
      ],
      "metadata": {
        "id": "jXKmMJ1DlHPe"
      }
    },
    {
      "cell_type": "markdown",
      "source": [
        "20. What is the significance of the ‘super()’ function in Python?"
      ],
      "metadata": {
        "id": "6gPaBRMvnj6r"
      }
    },
    {
      "cell_type": "markdown",
      "source": [
        "-> The super() function in Python is a built-in function that allows you to call methods from a parent (or superclass) in a child class. It is especially significant in inheritance, making it easier to extend or customize behavior without rewriting the parent's code. Significance of super():-\n",
        "\n",
        "- It allows a child class to call a method defined in its parent class, even if the method has been overridden in the child. This is essential for code reuse.\n",
        "\n",
        "- In Python, super() ensures that in cases of multiple inheritance, each parent class method is called in the correct order.\n",
        "\n",
        "- Instead of explicitly naming the parent class, super() is dynamic. This makes the code more maintainable if class names change.\n",
        "\n",
        "- Often used in constructors to make sure the parent class is properly initialized when the child class is instantiated.\n",
        "\n"
      ],
      "metadata": {
        "id": "ocY6WE-vnoF8"
      }
    },
    {
      "cell_type": "markdown",
      "source": [
        "21. What is the significance of the __del__ method in Python?"
      ],
      "metadata": {
        "id": "JUcPCA2TociP"
      }
    },
    {
      "cell_type": "markdown",
      "source": [
        "-> The __del__ method in Python is a dunder method, also known as a destructor, which is called when an object is about to be destroyed when there are no more references to it. Its main significance is in resource cleanup. If we give few more points on significance of __del__ method:-\n",
        "\n",
        "- __del__ allows you to release resources that the object might have acquired, such as:\n",
        "\n",
        "-Closing files\n",
        "\n",
        "-Releasing network connections\n",
        "\n",
        "- When an object's reference count drops to zero, __del__ is called before the object is removed from memory.\n",
        "\n",
        "- It can also be used to print messages or log when an object is being destroyed (for debugging or tracking purposes)."
      ],
      "metadata": {
        "id": "W3Q7zpEloeWe"
      }
    },
    {
      "cell_type": "markdown",
      "source": [
        "22. What is the difference between @staticmethod and @classmethod in Python?"
      ],
      "metadata": {
        "id": "2Mvl579RsZHa"
      }
    },
    {
      "cell_type": "markdown",
      "source": [
        "-> Both @staticmethod and @classmethod are decorators in Python that define methods inside a class, but they differ in how they are bound to the class and what arguments they automatically receive.\n",
        "\n",
        "Lets differentiate both on basis of few points:-\n",
        "\n",
        "- Bound to\n",
        "\n",
        "Static method is bound to function, not tied to instance or class.\n",
        "\n",
        "Class meethod is bound to the class, not instance\n",
        "\n",
        "- Can access instance (self)\n",
        "\n",
        "Static method cannot access instance.\n",
        "\n",
        "Class method cannot access instance.\n",
        "\n",
        "- Can access class\n",
        "\n",
        "Static method cannot access class.\n",
        "\n",
        "Class method can access class.\n",
        "\n",
        "- First argument\n",
        "\n",
        "No special first argument in static method\n",
        "\n",
        "Class method receives cls (the class itself) as the first argument\n",
        "\n",
        "\n",
        "\n"
      ],
      "metadata": {
        "id": "AIKNxKPusig9"
      }
    },
    {
      "cell_type": "markdown",
      "source": [
        "23.  How does polymorphism work in Python with inheritance?"
      ],
      "metadata": {
        "id": "WGC7PtzOvmkC"
      }
    },
    {
      "cell_type": "markdown",
      "source": [
        "-> To understand how polymorphism works with python, lets first understand how it works and then we can take help of an example:-\n",
        "\n",
        "There are 3 major steps to understand how  polymorphism work in Python with inheritance:-\n",
        "\n",
        "- Base class defines a method (general behavior).\n",
        "\n",
        "- Child classes override the method (specific behavior).\n",
        "\n",
        "- We can call the method on objects of different classes through the same reference (uniform interface).\n",
        "\n",
        "\n",
        "\n",
        "Eg=\n",
        "\n",
        "class Animal:\n",
        "    def speak(self):\n",
        "        return \"Some sound\"\n",
        "\n",
        "\n",
        "class Dog(Animal):\n",
        "    def speak(self):\n",
        "        return \"Woof!\"\n",
        "\n",
        "class Cat(Animal):\n",
        "    def speak(self):\n",
        "        return \"Meow!\"\n",
        "\n",
        "\n",
        "animals = [Dog(), Cat(), Animal()]\n",
        "\n",
        "for a in animals:\n",
        "    print(a.speak())\n",
        "\n",
        "\n",
        "- All classes (Dog, Cat, Animal) share the same method name speak().\n",
        "\n",
        "- Each subclass provides its own implementation of the method.\n"
      ],
      "metadata": {
        "id": "xB_fWmS8vpoi"
      }
    },
    {
      "cell_type": "markdown",
      "source": [
        "24. What is method chaining in Python OOP?"
      ],
      "metadata": {
        "id": "WPbx0NQiv42t"
      }
    },
    {
      "cell_type": "markdown",
      "source": [
        "-> Method chaining in Python OOP refers to the practice of calling multiple methods on the same object in a single line of code, by having each method return the object (self) instead of None.\n",
        "\n",
        "It is often used to make the code more compact and readable.\n",
        "\n",
        "Eg= p = Person(\"Alice\").set_age(25).set_city(\"New York\").show()\n",
        "\n",
        "In the above example, everything happens in a single line because each method returns self.\n",
        "\n",
        "Normally, methods in Python return None. For method chaining, each method explicitly returns self (the object itself)."
      ],
      "metadata": {
        "id": "VXad9gvxv8H9"
      }
    },
    {
      "cell_type": "markdown",
      "source": [
        "25. What is the purpose of the __call__ method in Python?"
      ],
      "metadata": {
        "id": "aYcgTWJExOJ0"
      }
    },
    {
      "cell_type": "markdown",
      "source": [
        "-> In Python, the __call__ method is a dunder method that makes an object callable like a function.\n",
        "\n",
        "It means if a class defines __call__, you can create an instance of that class and then use the instance as if it were a function.\n",
        "\n",
        "Purpose of __call__\n",
        "\n",
        "- Lets you call instances just like regular functions.\n",
        "\n",
        "- Unlike a normal function, an object can hold internal state (attributes) and still be callable.\n",
        "\n",
        "- Common in decorators, wrappers, and factories where an object needs both data and function-like behavior."
      ],
      "metadata": {
        "id": "dyUnSEnpxRz5"
      }
    },
    {
      "cell_type": "markdown",
      "source": [
        "**PRACTICAL QUESTIONS**"
      ],
      "metadata": {
        "id": "Zp8IN-ufxTWh"
      }
    },
    {
      "cell_type": "markdown",
      "source": [
        "1. Create a parent class Animal with a method speak() that prints a generic message. Create a child class Dog\n",
        "that overrides the speak() method to print \"Bark!\"."
      ],
      "metadata": {
        "id": "sjl0R0VkxZT7"
      }
    },
    {
      "cell_type": "code",
      "source": [
        "class Animal:\n",
        "    def speak(self):\n",
        "        print(\"This animal makes a sound.\")\n",
        "\n",
        "class Dog(Animal):\n",
        "    def speak(self):   # overriding the parent class method\n",
        "        print(\"Bark!\")\n",
        "\n",
        "# Example usage\n",
        "a = Animal()\n",
        "a.speak()\n",
        "\n",
        "d = Dog()\n",
        "d.speak()\n"
      ],
      "metadata": {
        "id": "q13f1tPnxeXe"
      },
      "execution_count": 2,
      "outputs": []
    },
    {
      "cell_type": "markdown",
      "source": [
        "2. Write a program to create an abstract class Shape with a method area(). Derive classes Circle and Rectangle\n",
        "from it and implement the area() method in both."
      ],
      "metadata": {
        "id": "BaPhJ1vG59K-"
      }
    },
    {
      "cell_type": "code",
      "source": [
        "from abc import ABC, abstractmethod\n",
        "import math\n",
        "\n",
        "\n",
        "class Shape(ABC):\n",
        "\n",
        "    @abstractmethod\n",
        "    def area(self):\n",
        "        pass\n",
        "\n",
        "# Derived class Circle\n",
        "class Circle(Shape):\n",
        "    def __init__(self, radius):\n",
        "        self.radius = radius\n",
        "\n",
        "    def area(self):\n",
        "        return math.pi * self.radius * self.radius\n",
        "\n",
        "# Derived class Rectangle\n",
        "class Rectangle(Shape):\n",
        "    def __init__(self, length, width):\n",
        "        self.length = length\n",
        "        self.width = width\n",
        "\n",
        "    def area(self):\n",
        "        return self.length * self.width\n",
        "\n",
        "# Example usage\n",
        "shapes = [Circle(5), Rectangle(4, 6)]\n",
        "\n",
        "for shape in shapes:\n",
        "    print(f\"Area: {shape.area()}\")"
      ],
      "metadata": {
        "colab": {
          "base_uri": "https://localhost:8080/"
        },
        "id": "8It5TKGV6B26",
        "outputId": "416c7cfc-c836-4427-8c38-3c026cd758d7"
      },
      "execution_count": 6,
      "outputs": [
        {
          "output_type": "stream",
          "name": "stdout",
          "text": [
            "Area: 78.53981633974483\n",
            "Area: 24\n"
          ]
        }
      ]
    },
    {
      "cell_type": "markdown",
      "source": [
        "3. Implement a multi-level inheritance scenario where a class Vehicle has an attribute type. Derive a class Car\n",
        "and further derive a class ElectricCar that adds a battery attribute."
      ],
      "metadata": {
        "id": "mfejjiH26Si0"
      }
    },
    {
      "cell_type": "code",
      "source": [
        "\n",
        "class Vehicle:\n",
        "    def __init__(self, vehicle_type):\n",
        "        self.vehicle_type = vehicle_type\n",
        "\n",
        "    def display_info(self):\n",
        "        print(f\"Vehicle type: {self.vehicle_type}\")\n",
        "\n",
        "\n",
        "class Car(Vehicle):\n",
        "    def __init__(self, vehicle_type, brand):\n",
        "        # Initialize attributes directly\n",
        "        Vehicle.__init__(self, vehicle_type)\n",
        "        self.brand = brand\n",
        "\n",
        "    def display_info(self):\n",
        "        print(f\"Car brand: {self.brand}\")\n",
        "        print(f\"Vehicle type: {self.vehicle_type}\")\n",
        "\n",
        "class ElectricCar(Car):\n",
        "    def __init__(self, vehicle_type, brand, battery_capacity):\n",
        "        # Initialize attributes directly\n",
        "        Car.__init__(self, vehicle_type, brand)\n",
        "        self.battery_capacity = battery_capacity\n",
        "\n",
        "    # Overriding display_info\n",
        "    def display_info(self):\n",
        "        print(f\"Electric Car brand: {self.brand}\")\n",
        "        print(f\"Vehicle type: {self.vehicle_type}\")\n",
        "        print(f\"Battery capacity: {self.battery_capacity} kWh\")\n",
        "\n",
        "\n",
        "#Example usage\n",
        "ecar = ElectricCar(\"Four Wheeler\", \"Tesla\", 100)\n",
        "ecar.display_info()\n"
      ],
      "metadata": {
        "colab": {
          "base_uri": "https://localhost:8080/"
        },
        "id": "I4YJRVdv6UJE",
        "outputId": "14bda6a2-1744-4dec-9647-d377b9649cbd"
      },
      "execution_count": 3,
      "outputs": [
        {
          "output_type": "stream",
          "name": "stdout",
          "text": [
            "Electric Car brand: Tesla\n",
            "Vehicle type: Four Wheeler\n",
            "Battery capacity: 100 kWh\n"
          ]
        }
      ]
    },
    {
      "cell_type": "markdown",
      "source": [
        "4.  Demonstrate polymorphism by creating a base class Bird with a method fly(). Create two derived classes\n",
        "Sparrow and Penguin that override the fly() method."
      ],
      "metadata": {
        "id": "Bh1o0OFo76Yr"
      }
    },
    {
      "cell_type": "code",
      "source": [
        "\n",
        "class Bird:\n",
        "    def fly(self):\n",
        "        print(\"Some birds can fly, some cannot.\")\n",
        "\n",
        "class Sparrow(Bird):\n",
        "    def fly(self):\n",
        "        print(\"Sparrow flies high in the sky!\")\n",
        "\n",
        "\n",
        "class Penguin(Bird):\n",
        "    def fly(self):\n",
        "        print(\"Penguins cannot fly, they swim instead!\")\n",
        "\n",
        "# Demonstrating polymorphism\n",
        "birds = [Sparrow(), Penguin(), Bird()]\n",
        "\n",
        "for bird in birds:\n",
        "    bird.fly()\n"
      ],
      "metadata": {
        "colab": {
          "base_uri": "https://localhost:8080/"
        },
        "id": "pvQLAfdq7dvs",
        "outputId": "231e5a6a-f63b-4939-fb28-967a9afd7605"
      },
      "execution_count": 7,
      "outputs": [
        {
          "output_type": "stream",
          "name": "stdout",
          "text": [
            "Sparrow flies high in the sky!\n",
            "Penguins cannot fly, they swim instead!\n",
            "Some birds can fly, some cannot.\n"
          ]
        }
      ]
    },
    {
      "cell_type": "markdown",
      "source": [
        "5. Write a program to demonstrate encapsulation by creating a class BankAccount with private attributes\n",
        "balance and methods to deposit, withdraw, and check balance."
      ],
      "metadata": {
        "id": "9glOdCoz8CAE"
      }
    },
    {
      "cell_type": "code",
      "source": [
        "class BankAccount:\n",
        "    def __init__(self, initial_balance=0):\n",
        "        self.__balance = initial_balance   # private attribute\n",
        "\n",
        "    # Method to deposit money\n",
        "    def deposit(self, amount):\n",
        "        if amount > 0:\n",
        "            self.__balance += amount\n",
        "            print(f\"Deposited: {amount}\")\n",
        "        else:\n",
        "            print(\"Deposit amount must be positive.\")\n",
        "\n",
        "    # Method to withdraw money\n",
        "    def withdraw(self, amount):\n",
        "        if 0 < amount <= self.__balance:\n",
        "            self.__balance -= amount\n",
        "            print(f\"Withdrew: {amount}\")\n",
        "        else:\n",
        "            print(\"Insufficient balance or invalid amount.\")\n",
        "\n",
        "    # Method to check balance\n",
        "    def check_balance(self):\n",
        "        print(f\"Current Balance: {self.__balance}\")\n",
        "\n",
        "# Example usage\n",
        "account = BankAccount(500)   # opening balance\n",
        "account.check_balance()\n",
        "\n",
        "account.deposit(500)\n",
        "account.withdraw(200)\n",
        "account.check_balance()\n",
        "\n"
      ],
      "metadata": {
        "colab": {
          "base_uri": "https://localhost:8080/"
        },
        "id": "QyPa86Ro8G2u",
        "outputId": "f41386c9-1702-4e53-8b60-2103f7f1c216"
      },
      "execution_count": 9,
      "outputs": [
        {
          "output_type": "stream",
          "name": "stdout",
          "text": [
            "Current Balance: 500\n",
            "Deposited: 500\n",
            "Withdrew: 200\n",
            "Current Balance: 800\n"
          ]
        }
      ]
    },
    {
      "cell_type": "markdown",
      "source": [
        "6.  Demonstrate runtime polymorphism using a method play() in a base class Instrument. Derive classes Guitar\n",
        "and Piano that implement their own version of play()."
      ],
      "metadata": {
        "id": "1qsdxhmy80rL"
      }
    },
    {
      "cell_type": "code",
      "source": [
        "# Base class\n",
        "class Instrument:\n",
        "    def play(self):\n",
        "        print(\"Playing an instrument...\")\n",
        "\n",
        "# Derived class Guitar\n",
        "class Guitar(Instrument):\n",
        "    def play(self):\n",
        "        print(\"Strumming the guitar 🎸\")\n",
        "\n",
        "# Derived class Piano\n",
        "class Piano(Instrument):\n",
        "    def play(self):\n",
        "        print(\"Playing the piano 🎹\")\n",
        "\n",
        "# Demonstrating runtime polymorphism\n",
        "instruments = [Guitar(), Piano(), Instrument()]\n",
        "\n",
        "for inst in instruments:\n",
        "    inst.play()   # method resolution depends on object type at runtime\n"
      ],
      "metadata": {
        "colab": {
          "base_uri": "https://localhost:8080/"
        },
        "id": "_w68bnUV86qx",
        "outputId": "5d2310c5-63c2-4cf9-83a0-fd313f6eafe4"
      },
      "execution_count": 10,
      "outputs": [
        {
          "output_type": "stream",
          "name": "stdout",
          "text": [
            "Strumming the guitar 🎸\n",
            "Playing the piano 🎹\n",
            "Playing an instrument...\n"
          ]
        }
      ]
    },
    {
      "cell_type": "markdown",
      "source": [
        "7. Create a class MathOperations with a class method add_numbers() to add two numbers and a static\n",
        "method subtract_numbers() to subtract two numbers"
      ],
      "metadata": {
        "id": "4nNUwZGi9XXZ"
      }
    },
    {
      "cell_type": "code",
      "source": [
        "class MathOperations:\n",
        "\n",
        "    # Class method (uses cls)\n",
        "    @classmethod\n",
        "    def add_numbers(cls, a, b):\n",
        "        return a + b\n",
        "\n",
        "    # Static method (no cls or self)\n",
        "    @staticmethod\n",
        "    def subtract_numbers(a, b):\n",
        "        return a - b\n",
        "\n",
        "\n",
        "# Example usage\n",
        "print(\"Addition:\", MathOperations.add_numbers(10, 5))     # 15\n",
        "print(\"Subtraction:\", MathOperations.subtract_numbers(10, 5))  # 5\n"
      ],
      "metadata": {
        "colab": {
          "base_uri": "https://localhost:8080/"
        },
        "id": "7NS7YRNt9dDC",
        "outputId": "5ad6288a-c208-4a3d-fcff-ed3879bacf8f"
      },
      "execution_count": 11,
      "outputs": [
        {
          "output_type": "stream",
          "name": "stdout",
          "text": [
            "Addition: 15\n",
            "Subtraction: 5\n"
          ]
        }
      ]
    },
    {
      "cell_type": "markdown",
      "source": [
        "8. Implement a class Person with a class method to count the total number of persons created."
      ],
      "metadata": {
        "id": "jnUqxzIn-X58"
      }
    },
    {
      "cell_type": "code",
      "source": [
        "class Person:\n",
        "    count = 0\n",
        "\n",
        "    def __init__(self, name):\n",
        "        self.name = name\n",
        "        # Increment counter whenever a new object is created\n",
        "        Person.count += 1\n",
        "\n",
        "    @classmethod\n",
        "    def total_persons(cls):\n",
        "        return cls.count\n",
        "\n",
        "\n",
        "# --- Example usage ---\n",
        "p1 = Person(\"Vidit\")\n",
        "p2 = Person(\"Ajay\")\n",
        "p3 = Person(\"Vijay\")\n",
        "\n",
        "print(\"Total persons created:\", Person.total_persons())\n"
      ],
      "metadata": {
        "colab": {
          "base_uri": "https://localhost:8080/"
        },
        "id": "G5ViPP6Q-ddJ",
        "outputId": "02a65ff6-a36d-4f20-ab14-bfacbce4788b"
      },
      "execution_count": 14,
      "outputs": [
        {
          "output_type": "stream",
          "name": "stdout",
          "text": [
            "Total persons created: 3\n"
          ]
        }
      ]
    },
    {
      "cell_type": "markdown",
      "source": [
        "9. Write a class Fraction with attributes numerator and denominator. Override the str method to display the\n",
        "fraction as \"numerator/denominator\"."
      ],
      "metadata": {
        "id": "Y7lk29OX_GuO"
      }
    },
    {
      "cell_type": "code",
      "source": [
        "class Fraction:\n",
        "    def __init__(self, numerator, denominator):\n",
        "        if denominator == 0:\n",
        "            raise ValueError(\"Denominator cannot be zero.\")\n",
        "        self.numerator = numerator\n",
        "        self.denominator = denominator\n",
        "\n",
        "    # Override __str__ to display nicely\n",
        "    def __str__(self):\n",
        "        return f\"{self.numerator}/{self.denominator}\"\n",
        "\n",
        "\n",
        "# Example usage\n",
        "f1 = Fraction(3, 4)\n",
        "f2 = Fraction(5, 6)\n",
        "\n",
        "print(f1)  # Output: 3/4\n",
        "print(f2)  # Output: 5/6"
      ],
      "metadata": {
        "colab": {
          "base_uri": "https://localhost:8080/"
        },
        "id": "cEv8jZDe_ihV",
        "outputId": "eb7d06c1-0e13-4fb9-8911-885d68c8c877"
      },
      "execution_count": 16,
      "outputs": [
        {
          "output_type": "stream",
          "name": "stdout",
          "text": [
            "3/4\n",
            "5/6\n"
          ]
        }
      ]
    },
    {
      "cell_type": "markdown",
      "source": [
        "10.  Demonstrate operator overloading by creating a class Vector and overriding the add method to add two\n",
        "vectors."
      ],
      "metadata": {
        "id": "6eQQ2rPM_nUA"
      }
    },
    {
      "cell_type": "code",
      "source": [
        "class Vector:\n",
        "    def __init__(self, x, y):\n",
        "        self.x = x\n",
        "        self.y = y\n",
        "\n",
        "    # Overload the + operator\n",
        "    def __add__(self, other):\n",
        "        return Vector(self.x + other.x, self.y + other.y)\n",
        "\n",
        "    # String representation for easy printing\n",
        "    def __str__(self):\n",
        "        return f\"Vector({self.x}, {self.y})\"\n",
        "\n",
        "\n",
        "# --- Example usage ---\n",
        "v1 = Vector(3, 4)\n",
        "v2 = Vector(1, 2)\n",
        "\n",
        "v3 = v1 + v2  # Uses the overloaded __add__ method\n",
        "\n",
        "print(v3)\n"
      ],
      "metadata": {
        "colab": {
          "base_uri": "https://localhost:8080/"
        },
        "id": "uKrcSnYb_tQn",
        "outputId": "c479d79d-2583-4243-ed52-c5d33994cfa6"
      },
      "execution_count": 15,
      "outputs": [
        {
          "output_type": "stream",
          "name": "stdout",
          "text": [
            "Vector(4, 6)\n"
          ]
        }
      ]
    },
    {
      "cell_type": "markdown",
      "source": [
        "11. Create a class Person with attributes name and age. Add a method greet() that prints \"Hello, my name is\n",
        "{name} and I am {age} years old.\""
      ],
      "metadata": {
        "id": "E3rMTyE-AQHx"
      }
    },
    {
      "cell_type": "code",
      "source": [
        "class Person:\n",
        "    def __init__(self, name, age):\n",
        "        self.name = name\n",
        "        self.age = age\n",
        "\n",
        "    def greet(self):\n",
        "        print(f\"Hello, my name is {self.name} and I am {self.age} years old.\")\n",
        "\n",
        "\n",
        "# --- Example usage ---\n",
        "p1 = Person(\"Vidit\", 24)\n",
        "p1.greet()\n",
        "\n",
        "p2 = Person(\"Bob\", 30)\n",
        "p2.greet()\n"
      ],
      "metadata": {
        "colab": {
          "base_uri": "https://localhost:8080/"
        },
        "id": "hNNy29vrAVpX",
        "outputId": "82826bb0-bcee-4f9e-92d0-bcab19d77ab9"
      },
      "execution_count": 18,
      "outputs": [
        {
          "output_type": "stream",
          "name": "stdout",
          "text": [
            "Hello, my name is Vidit and I am 24 years old.\n",
            "Hello, my name is Bob and I am 30 years old.\n"
          ]
        }
      ]
    },
    {
      "cell_type": "markdown",
      "source": [
        "12. Implement a class Student with attributes name and grades. Create a method average_grade() to compute\n",
        "the average of the grades."
      ],
      "metadata": {
        "id": "4M-Tjc3HA5K_"
      }
    },
    {
      "cell_type": "code",
      "source": [
        "class Student:\n",
        "    def __init__(self, name, grades):\n",
        "        self.name = name            # Student's name\n",
        "        self.grades = grades        # List of grades\n",
        "\n",
        "    def average_grade(self):\n",
        "        if not self.grades:\n",
        "            return 0               # Avoid division by zero if no grades\n",
        "        return sum(self.grades) / len(self.grades)  # Compute average\n",
        "\n",
        "\n",
        "# --- Example usage ---\n",
        "s1 = Student(\"Alice\", [85, 90, 78])\n",
        "print(f\"{s1.name}'s average grade: {s1.average_grade()}\")\n",
        "\n",
        "s2 = Student(\"Bob\", [70, 88, 92, 100])\n",
        "print(f\"{s2.name}'s average grade: {s2.average_grade()}\")\n"
      ],
      "metadata": {
        "colab": {
          "base_uri": "https://localhost:8080/"
        },
        "id": "FiZ5InXCA6gl",
        "outputId": "c3bf29ba-a6b9-4605-d1a5-1cf4751bfc32"
      },
      "execution_count": 19,
      "outputs": [
        {
          "output_type": "stream",
          "name": "stdout",
          "text": [
            "Alice's average grade: 84.33333333333333\n",
            "Bob's average grade: 87.5\n"
          ]
        }
      ]
    },
    {
      "cell_type": "markdown",
      "source": [
        "13. Create a class Rectangle with methods set_dimensions() to set the dimensions and area() to calculate the\n",
        "area."
      ],
      "metadata": {
        "id": "z7HAoSfsBkBW"
      }
    },
    {
      "cell_type": "code",
      "source": [
        "class Rectangle:\n",
        "    def __init__(self):\n",
        "        self.length = 0\n",
        "        self.width = 0\n",
        "\n",
        "    def set_dimensions(self, length, width):\n",
        "        if length > 0 and width > 0:\n",
        "            self.length = length\n",
        "            self.width = width\n",
        "        else:\n",
        "            print(\"Length and width must be positive numbers.\")\n",
        "\n",
        "    def area(self):\n",
        "        return self.length * self.width\n",
        "\n",
        "rect = Rectangle()\n",
        "rect.set_dimensions(5, 3)\n",
        "print(\"Area of rectangle:\", rect.area())  # Output: 15\n"
      ],
      "metadata": {
        "colab": {
          "base_uri": "https://localhost:8080/"
        },
        "id": "_UMCROygBoyD",
        "outputId": "3d895e9b-4e25-4787-ce66-4fd68901cb56"
      },
      "execution_count": 21,
      "outputs": [
        {
          "output_type": "stream",
          "name": "stdout",
          "text": [
            "Area of rectangle: 15\n"
          ]
        }
      ]
    },
    {
      "cell_type": "markdown",
      "source": [
        "14. Create a class Employee with a method calculate_salary() that computes the salary based on hours worked\n",
        "and hourly rate. Create a derived class Manager that adds a bonus to the salary"
      ],
      "metadata": {
        "id": "pUV_HGJ1OjqX"
      }
    },
    {
      "cell_type": "code",
      "source": [
        "# Base class\n",
        "class Employee:\n",
        "    def __init__(self, name, hours_worked, hourly_rate):\n",
        "        self.name = name\n",
        "        self.hours_worked = hours_worked\n",
        "        self.hourly_rate = hourly_rate\n",
        "\n",
        "    def calculate_salary(self):\n",
        "        return self.hours_worked * self.hourly_rate\n",
        "\n",
        "# Derived class\n",
        "class Manager(Employee):\n",
        "    def __init__(self, name, hours_worked, hourly_rate, bonus):\n",
        "        self.name = name\n",
        "        self.hours_worked = hours_worked\n",
        "        self.hourly_rate = hourly_rate\n",
        "        self.bonus = bonus\n",
        "\n",
        "    def calculate_salary(self):\n",
        "        # directly use attributes instead of calling super()\n",
        "        base_salary = self.hours_worked * self.hourly_rate\n",
        "        return base_salary + self.bonus\n",
        "\n",
        "# Demonstrating runtime polymorphism\n",
        "staff = [\n",
        "    Employee(\"Alice\", 40, 20),\n",
        "    Manager(\"Bob\", 40, 25, 500),\n",
        "    Employee(\"Charlie\", 35, 15),\n",
        "    Manager(\"Diana\", 45, 30, 700)\n",
        "]\n",
        "\n",
        "for person in staff:\n",
        "    print(f\"{person.name}'s salary: {person.calculate_salary()}\")\n"
      ],
      "metadata": {
        "colab": {
          "base_uri": "https://localhost:8080/"
        },
        "id": "z0frBiOLOoJm",
        "outputId": "7ad682a9-715a-4260-c356-c09b6a8ed354"
      },
      "execution_count": 22,
      "outputs": [
        {
          "output_type": "stream",
          "name": "stdout",
          "text": [
            "Alice's salary: 800\n",
            "Bob's salary: 1500\n",
            "Charlie's salary: 525\n",
            "Diana's salary: 2050\n"
          ]
        }
      ]
    },
    {
      "cell_type": "markdown",
      "source": [
        "15. Create a class Product with attributes name, price, and quantity. Implement a method total_price() that\n",
        "calculates the total price of the product."
      ],
      "metadata": {
        "id": "OKMAw0vdP5X3"
      }
    },
    {
      "cell_type": "code",
      "source": [
        "class Product:\n",
        "    def __init__(self, name, price, quantity):\n",
        "        self.name = name        # Name of the product\n",
        "        self.price = price      # Price per unit\n",
        "        self.quantity = quantity  # Quantity of the product\n",
        "\n",
        "    # Method to calculate total price\n",
        "    def total_price(self):\n",
        "        return self.price * self.quantity\n",
        "\n",
        "\n",
        "# Example usage\n",
        "product1 = Product(\"Laptop\", 50000, 2)\n",
        "product2 = Product(\"Mouse\", 500, 5)\n",
        "\n",
        "print(f\"{product1.name} total price: {product1.total_price()}\")  # Output: 100000\n",
        "print(f\"{product2.name} total price: {product2.total_price()}\")  # Output: 2500\n"
      ],
      "metadata": {
        "colab": {
          "base_uri": "https://localhost:8080/"
        },
        "id": "On-_DmdSQY-d",
        "outputId": "2dfbdad4-0ade-412e-bb4b-7d342bf76b6d"
      },
      "execution_count": 23,
      "outputs": [
        {
          "output_type": "stream",
          "name": "stdout",
          "text": [
            "Laptop total price: 100000\n",
            "Mouse total price: 2500\n"
          ]
        }
      ]
    },
    {
      "cell_type": "markdown",
      "source": [
        "16. Create a class Animal with an abstract method sound(). Create two derived classes Cow and Sheep that\n",
        "implement the sound() method."
      ],
      "metadata": {
        "id": "rrrf9agYQcr7"
      }
    },
    {
      "cell_type": "code",
      "source": [
        "from abc import ABC, abstractmethod\n",
        "\n",
        "# Abstract base class\n",
        "class Animal(ABC):\n",
        "    @abstractmethod\n",
        "    def sound(self):\n",
        "        pass  # Abstract method, must be implemented by subclasses\n",
        "\n",
        "\n",
        "class Cow(Animal):\n",
        "    def sound(self):\n",
        "        return \"Moo\"\n",
        "\n",
        "class Sheep(Animal):\n",
        "    def sound(self):\n",
        "        return \"Baa\"\n",
        "\n",
        "cow = Cow()\n",
        "sheep = Sheep()\n",
        "\n",
        "print(\"Cow says:\", cow.sound())\n",
        "print(\"Sheep says:\", sheep.sound())\n"
      ],
      "metadata": {
        "id": "h5wJxUA6QeXP"
      },
      "execution_count": null,
      "outputs": []
    },
    {
      "cell_type": "markdown",
      "source": [
        "17. Create a class Book with attributes title, author, and year_published. Add a method get_book_info() that\n",
        "returns a formatted string with the book's details"
      ],
      "metadata": {
        "id": "QNukMIJVQezt"
      }
    },
    {
      "cell_type": "code",
      "source": [
        "class Book:\n",
        "    def __init__(self, title, author, year_published):\n",
        "        self.title = title\n",
        "        self.author = author\n",
        "        self.year_published = year_published\n",
        "\n",
        "    def get_book_info(self):\n",
        "        return f\"'{self.title}' by {self.author}, published in {self.year_published}\"\n",
        "\n",
        "# Example usage\n",
        "book1 = Book(\"1984\", \"George Orwell\", 1949)\n",
        "print(book1.get_book_info())\n"
      ],
      "metadata": {
        "colab": {
          "base_uri": "https://localhost:8080/"
        },
        "id": "gYscEa7aQiUr",
        "outputId": "84b8e233-cc68-4217-a226-74928b8fa14d"
      },
      "execution_count": 24,
      "outputs": [
        {
          "output_type": "stream",
          "name": "stdout",
          "text": [
            "'1984' by George Orwell, published in 1949\n"
          ]
        }
      ]
    },
    {
      "cell_type": "markdown",
      "source": [
        "18.  Create a class House with attributes address and price. Create a derived class Mansion that adds an\n",
        "attribute number_of_rooms."
      ],
      "metadata": {
        "id": "Bxabu3plQjH7"
      }
    },
    {
      "cell_type": "code",
      "source": [
        "# Base class\n",
        "class House:\n",
        "    def __init__(self, address, price):\n",
        "        self.address = address\n",
        "        self.price = price\n",
        "\n",
        "    def show_info(self):\n",
        "        print(f\"Address: {self.address}, Price: {self.price}\")\n",
        "\n",
        "# Derived class\n",
        "class Mansion(House):\n",
        "    def __init__(self, address, price, number_of_rooms):\n",
        "        super().__init__(address, price)   # Initialize base class attributes\n",
        "        self.number_of_rooms = number_of_rooms\n",
        "\n",
        "    def show_info(self):\n",
        "        # Override to include number_of_rooms\n",
        "        print(f\"Address: {self.address}, Price: {self.price}, Rooms: {self.number_of_rooms}\")\n",
        "\n",
        "\n",
        "# Example usage\n",
        "house1 = House(\"123 Main St\", 50000)\n",
        "mansion1 = Mansion(\"456 Luxury Rd\", 500000, 10)\n",
        "\n",
        "house1.show_info()     # Output: Address: 123 Main St, Price: 50000\n",
        "mansion1.show_info()   # Output: Address: 456 Luxury Rd, Price: 500000, Rooms: 10\n"
      ],
      "metadata": {
        "id": "onciFsbCQmYP"
      },
      "execution_count": null,
      "outputs": []
    }
  ]
}